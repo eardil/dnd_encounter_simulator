{
 "cells": [
  {
   "cell_type": "code",
   "execution_count": 247,
   "id": "packed-stage",
   "metadata": {},
   "outputs": [],
   "source": [
    "import pandas as pd\n",
    "import numpy as np\n",
    "from random import randint, choice\n",
    "\n",
    "import matplotlib.pyplot as plt"
   ]
  },
  {
   "cell_type": "markdown",
   "id": "working-accordance",
   "metadata": {},
   "source": [
    "## Classes"
   ]
  },
  {
   "cell_type": "code",
   "execution_count": 766,
   "id": "boxed-edgar",
   "metadata": {},
   "outputs": [],
   "source": [
    "class Dice:\n",
    "    def __init__(self, number, size):\n",
    "        self.num = number\n",
    "        self.size = size\n",
    "        \n",
    "    def roll(self):\n",
    "        return sum([randint(1, self.size) for x in range(self.num)])\n",
    "    \n",
    "d20 = Dice(1,20)\n",
    "    \n",
    "class Character:\n",
    "    def __init__(self, HP, AC, attack_mod, damage_die, damage_mod):\n",
    "        self.atk = attack_mod\n",
    "        self.die = damage_die\n",
    "        self.dmg = damage_mod\n",
    "        self.hp_total = HP\n",
    "        self.hp_current = HP\n",
    "        self.ac = AC\n",
    "        \n",
    "        self.dmg_die = Dice(int(damage_die.split(\"d\")[0]),\n",
    "                            int(damage_die.split(\"d\")[1]))\n",
    "        \n",
    "    def check(self, Char):\n",
    "        return randint(1,20) > Char.ac\n",
    "    \n",
    "    def damage(self, hit):\n",
    "        self.hp_current = self.hp_current - hit\n",
    "    \n",
    "    def attack(self, Char):\n",
    "        damage_output = self.dmg_die.roll()+self.dmg\n",
    "        if self.check(Char):\n",
    "            Char.damage(damage_output)\n",
    "        return damage_output, damage_output>0\n",
    "            \n",
    "    def is_alive(self):\n",
    "        return self.hp_current > 0\n",
    "    \n",
    "    def reset(self):\n",
    "        self.hp_current = self.hp_total\n",
    "\n",
    "    \n",
    "class Party:\n",
    "    def __init__(self, char_list):\n",
    "        self.char_list = char_list\n",
    "        \n",
    "    def get_alive(self):\n",
    "        return [x for x in self.char_list if x.is_alive()]\n",
    "        \n",
    "    def choose_alive(self):\n",
    "        return choice(self.get_alive())\n",
    "    \n",
    "    def attack(self, Pty):\n",
    "        damage_output = 0\n",
    "        checks = 0\n",
    "        for c in self.get_alive():\n",
    "            if Pty.is_alive():\n",
    "                d_o, check = c.attack(Pty.choose_alive())\n",
    "                damage_output = damage_output + d_o\n",
    "                checks = checks + check\n",
    "        return damage_output, checks\n",
    "    \n",
    "    def num_alive(self):\n",
    "        return len(self.get_alive())\n",
    "    \n",
    "    def is_alive(self):\n",
    "        return self.num_alive() > 0\n",
    "    \n",
    "    def get_hp(self):\n",
    "        return [x.hp_current for x in self.char_list]\n",
    "    \n",
    "    def reset(self):\n",
    "        for c in self.char_list:\n",
    "            c.reset()\n",
    "        \n",
    "\n",
    "class Turn:\n",
    "    def __init__(self, pj_party, enemy_party, pj_init):\n",
    "        self.pjs = pj_party\n",
    "        self.enemies = enemy_party\n",
    "        self.pj_init = pj_init\n",
    "        self.damage_done = 0\n",
    "        self.atk_success = 0\n",
    "        \n",
    "    def is_alive(self):\n",
    "        return self.pjs.is_alive() and self.enemies.is_alive()\n",
    "    \n",
    "    def run(self):\n",
    "        self.damage_done = 0\n",
    "        self.atk_success = 0\n",
    "        \n",
    "        char_list = [self.pjs, self.enemies]\n",
    "        \n",
    "        if self.is_alive():\n",
    "            for w in [self.pj_init, 1-self.pj_init]:\n",
    "                d_o, check = char_list[w].attack(char_list[1-w])\n",
    "                self.damage_done = self.damage_done + d_o\n",
    "                self.atk_success = self.atk_success + check\n",
    "                \n",
    "    def status(self):\n",
    "        print(\"PJ alive:\", self.pjs.num_alive())\n",
    "        print(\"Enemies alive:\", self.enemies.num_alive())\n",
    "        print('\\n')\n",
    "        print('Current player HP')\n",
    "        for c in self.pjs.char_list:\n",
    "            print(f'{c.hp_current}/{c.hp_total}')\n",
    "            \n",
    "            \n",
    "class Encounter:\n",
    "    def __init__(self, pj_party, enemy_party):\n",
    "        self.pjs = pj_party\n",
    "        self.enemies = enemy_party\n",
    "        self.turn = Turn(self.pjs, self.enemies, randint(0,1))\n",
    "        \n",
    "        self.party_hp = np.array(pj_party.get_hp()).reshape(\n",
    "            (1, len(pj_party.get_hp())))\n",
    "        self.enemies_alive = [self.enemies.num_alive()]\n",
    "        self.pjs_alive = [self.pjs.num_alive()]\n",
    "        self.damage_output = [0]\n",
    "        self.atk_success = [0]\n",
    "        \n",
    "        self.num_turns = 0\n",
    "        \n",
    "    def run(self):\n",
    "        while self.turn.is_alive():\n",
    "            self.turn.run()\n",
    "            self.party_hp = np.concatenate([\n",
    "                self.party_hp,\n",
    "                np.array(self.turn.pjs.get_hp()).reshape(\n",
    "                    (1, len(self.pjs.get_hp())))],\n",
    "                axis=0)\n",
    "            self.num_turns = self.num_turns + 1\n",
    "            self.enemies_alive.append(self.enemies.num_alive())\n",
    "            self.pjs_alive.append(self.pjs.num_alive())\n",
    "            self.damage_output.append(self.turn.damage_done)\n",
    "            self.atk_success.append(self.turn.atk_success)\n",
    "\n",
    "    def status(self):\n",
    "        return {\n",
    "            'pjs_alive': self.pjs_alive[-1],\n",
    "            'enemies_alive': self.enemies_alive[-1],\n",
    "            'damage_output': self.damage_output[-1],\n",
    "            'num_turns': self.num_turns,\n",
    "            'atk_success': self.atk_success[-1],\n",
    "            'party_hp': ','.join([str(x) for x in self.party_hp[-1,:]]),\n",
    "            'pj_initiative': self.turn.pj_init\n",
    "        }\n",
    "    \n",
    "    def get_hp_df(self):\n",
    "        hp_df = pd.DataFrame(self.party_hp / \n",
    "                             [x.hp_total for x in self.pjs.char_list],\n",
    "                     columns=[f'pj{i}' for i in range(self.party_hp.shape[1])])\n",
    "        hp_df['enemies_alive'] = (np.array(self.enemies_alive) / \n",
    "            max(self.enemies_alive))\n",
    "        return hp_df\n",
    "    \n",
    "    def hp_plot(self):\n",
    "        hp_df = self.get_hp_df()\n",
    "        hp_df.plot()\n",
    "        plt.plot([0,self.num_turns], [0,0], linestyle='--')\n",
    "        \n",
    "    def reset(self):\n",
    "        self.pjs.reset()\n",
    "        self.enemies.reset()\n",
    "        self.party_hp = np.array(self.pjs.get_hp()).reshape(\n",
    "            (1, len(self.pjs.get_hp())))\n",
    "        self.enemies_alive = [self.enemies.num_alive()]\n",
    "        self.pjs_alive = [self.pjs.num_alive()]\n",
    "        self.damage_output = [0]\n",
    "        self.atk_success = [0]\n",
    "        self.num_turns = 0\n",
    "        self.turn = Turn(self.pjs, self.enemies, randint(0,1))"
   ]
  },
  {
   "cell_type": "code",
   "execution_count": 767,
   "id": "natural-lesbian",
   "metadata": {},
   "outputs": [
    {
     "data": {
      "text/plain": [
       "array([[10, 11]])"
      ]
     },
     "execution_count": 767,
     "metadata": {},
     "output_type": "execute_result"
    }
   ],
   "source": [
    "np.array([10, 11]).reshape((1,2))"
   ]
  },
  {
   "cell_type": "markdown",
   "id": "essential-garage",
   "metadata": {},
   "source": [
    "## Enemies"
   ]
  },
  {
   "cell_type": "code",
   "execution_count": 768,
   "id": "critical-arnold",
   "metadata": {},
   "outputs": [],
   "source": [
    "def Goblin():\n",
    "    return Character(10, 13, 3, \"1d4\", 2)"
   ]
  },
  {
   "cell_type": "code",
   "execution_count": 769,
   "id": "statistical-means",
   "metadata": {},
   "outputs": [],
   "source": [
    "enemies = Party([Goblin() for x in range(10)])"
   ]
  },
  {
   "cell_type": "markdown",
   "id": "finite-leadership",
   "metadata": {},
   "source": [
    "## Players"
   ]
  },
  {
   "cell_type": "code",
   "execution_count": 770,
   "id": "worldwide-philosophy",
   "metadata": {},
   "outputs": [],
   "source": [
    "pala = Character(20, 18, 4, \"1d6\", 3)\n",
    "rogue = Character(15, 15, 4, \"1d8\", 3)\n",
    "barbarian = Character(17, 16, 4, \"1d12\", 4)"
   ]
  },
  {
   "cell_type": "code",
   "execution_count": 771,
   "id": "demonstrated-middle",
   "metadata": {},
   "outputs": [],
   "source": [
    "party = Party([pala, rogue, barbarian])"
   ]
  },
  {
   "cell_type": "markdown",
   "id": "authorized-petite",
   "metadata": {},
   "source": [
    "## Encounter"
   ]
  },
  {
   "cell_type": "code",
   "execution_count": 772,
   "id": "jewish-candidate",
   "metadata": {},
   "outputs": [],
   "source": [
    "enc = Encounter(party, enemies)"
   ]
  },
  {
   "cell_type": "code",
   "execution_count": 773,
   "id": "painted-constitutional",
   "metadata": {},
   "outputs": [],
   "source": [
    "enc.run()"
   ]
  },
  {
   "cell_type": "code",
   "execution_count": 774,
   "id": "psychological-shade",
   "metadata": {},
   "outputs": [
    {
     "data": {
      "text/plain": [
       "10"
      ]
     },
     "execution_count": 774,
     "metadata": {},
     "output_type": "execute_result"
    }
   ],
   "source": [
    "max(enc.enemies_alive)"
   ]
  },
  {
   "cell_type": "code",
   "execution_count": 775,
   "id": "subject-differential",
   "metadata": {},
   "outputs": [
    {
     "data": {
      "image/png": "[encoded data removed]",
      "text/plain": [
       "<Figure size 432x288 with 1 Axes>"
      ]
     },
     "metadata": {
      "needs_background": "light"
     },
     "output_type": "display_data"
    }
   ],
   "source": [
    "enc.hp_plot()\n",
    "enc.reset()"
   ]
  },
  {
   "cell_type": "markdown",
   "id": "excellent-gamma",
   "metadata": {},
   "source": [
    "## HP Simulation"
   ]
  },
  {
   "cell_type": "code",
   "execution_count": 874,
   "id": "twelve-thompson",
   "metadata": {},
   "outputs": [],
   "source": [
    "def Goblin():\n",
    "    return Character(10, 12, 4, \"1d4\", 0)"
   ]
  },
  {
   "cell_type": "code",
   "execution_count": 881,
   "id": "level-school",
   "metadata": {},
   "outputs": [],
   "source": [
    "# enemies\n",
    "enemies = Party([Goblin() for x in range(3)]+[Character(20,15,5,'2d4',1)])\n",
    "\n",
    "# party\n",
    "pala = Character(18, 18, 3, \"1d6\", 2)\n",
    "rogue = Character(14, 15, 2, \"1d6\", 3)\n",
    "barbarian = Character(16, 16, 4, \"1d8\", 3)\n",
    "\n",
    "party = Party([pala, rogue, barbarian])\n",
    "\n",
    "# encounter\n",
    "enc = Encounter(party, enemies)\n",
    "\n",
    "# simulation dataframe\n",
    "df_sim = pd.DataFrame()\n",
    "df_total = pd.DataFrame()\n",
    "\n",
    "for i in range(1000):\n",
    "    enc.run()\n",
    "    df = enc.get_hp_df()\n",
    "    df_total = df_total.append(df.assign(num_sim=i),ignore_index=True)\n",
    "    df_sim = df_sim.append(enc.status(),ignore_index=True)\n",
    "    enc.reset()"
   ]
  },
  {
   "cell_type": "code",
   "execution_count": 882,
   "id": "discrete-cannon",
   "metadata": {},
   "outputs": [
    {
     "data": {
      "image/png": "[encoded data removed]",
      "text/plain": [
       "<Figure size 720x504 with 4 Axes>"
      ]
     },
     "metadata": {
      "needs_background": "light"
     },
     "output_type": "display_data"
    }
   ],
   "source": [
    "plt.rcParams['figure.figsize'] = (10,7)\n",
    "\n",
    "plt.subplot(221)\n",
    "df_sim.pjs_alive.value_counts(normalize=True).plot.bar()\n",
    "plt.title('Number of PJs alive')\n",
    "\n",
    "plt.subplot(222)\n",
    "df_sim.num_turns.hist(bins=40)\n",
    "plt.vlines(x=df_sim.num_turns.mean(), ymin=0, ymax=100, color='r')\n",
    "plt.title('Number of turns')\n",
    "\n",
    "plt.subplot(223)\n",
    "(\n",
    "    df_sim\n",
    "    .assign(dmg_turn=lambda x: x.damage_output/x.num_turns)\n",
    "    .dmg_turn\n",
    "    .hist(bins=40)\n",
    ")\n",
    "plt.title('Damage per turn')\n",
    "\n",
    "plt.subplot(224)\n",
    "(\n",
    "    df_sim\n",
    "    .assign(succ_turn=lambda x: x.atk_success/x.num_turns)\n",
    "    .succ_turn\n",
    "    .hist(bins=40)\n",
    ")\n",
    "plt.title('Successes per turn')\n",
    "\n",
    "plt.show()"
   ]
  },
  {
   "cell_type": "code",
   "execution_count": 883,
   "id": "written-venture",
   "metadata": {},
   "outputs": [
    {
     "data": {
      "image/png": "[encoded data removed]",
      "text/plain": [
       "<Figure size 432x288 with 1 Axes>"
      ]
     },
     "metadata": {
      "needs_background": "light"
     },
     "output_type": "display_data"
    },
    {
     "data": {
      "image/png": "[encoded data removed]",
      "text/plain": [
       "<Figure size 432x288 with 1 Axes>"
      ]
     },
     "metadata": {
      "needs_background": "light"
     },
     "output_type": "display_data"
    },
    {
     "data": {
      "image/png": "[encoded data removed]",
      "text/plain": [
       "<Figure size 432x288 with 1 Axes>"
      ]
     },
     "metadata": {
      "needs_background": "light"
     },
     "output_type": "display_data"
    }
   ],
   "source": [
    "plt.rcParams['figure.figsize'] = (6,4)\n",
    "df_hist = (\n",
    "    df_sim\n",
    "    .party_hp\n",
    "    .str.split(',',expand=True)\n",
    "    .rename(lambda x:f'char{x}', axis='columns')\n",
    "    .astype(int)\n",
    ")\n",
    "\n",
    "for c in df_hist.columns:\n",
    "    counts = df_hist[c].value_counts()\n",
    "    plt.bar(counts.index, counts.values / counts.values.sum(),\n",
    "           label=c)\n",
    "    plt.vlines(x=0, ymin=0, ymax=0.1, linestyle='--', color='r')\n",
    "    plt.legend()\n",
    "    plt.show()"
   ]
  },
  {
   "cell_type": "code",
   "execution_count": 884,
   "id": "light-parameter",
   "metadata": {},
   "outputs": [
    {
     "data": {
      "text/html": [
       "<div>\n",
       "<style scoped>\n",
       "    .dataframe tbody tr th:only-of-type {\n",
       "        vertical-align: middle;\n",
       "    }\n",
       "\n",
       "    .dataframe tbody tr th {\n",
       "        vertical-align: top;\n",
       "    }\n",
       "\n",
       "    .dataframe thead th {\n",
       "        text-align: right;\n",
       "    }\n",
       "</style>\n",
       "<table border=\"1\" class=\"dataframe\">\n",
       "  <thead>\n",
       "    <tr style=\"text-align: right;\">\n",
       "      <th></th>\n",
       "      <th>atk_success</th>\n",
       "      <th>damage_output</th>\n",
       "      <th>enemies_alive</th>\n",
       "      <th>num_turns</th>\n",
       "      <th>party_hp</th>\n",
       "      <th>pj_initiative</th>\n",
       "      <th>pjs_alive</th>\n",
       "    </tr>\n",
       "  </thead>\n",
       "  <tbody>\n",
       "    <tr>\n",
       "      <th>0</th>\n",
       "      <td>1.0</td>\n",
       "      <td>6.0</td>\n",
       "      <td>0.0</td>\n",
       "      <td>10.0</td>\n",
       "      <td>17,6,-3</td>\n",
       "      <td>0.0</td>\n",
       "      <td>2.0</td>\n",
       "    </tr>\n",
       "    <tr>\n",
       "      <th>1</th>\n",
       "      <td>3.0</td>\n",
       "      <td>17.0</td>\n",
       "      <td>0.0</td>\n",
       "      <td>13.0</td>\n",
       "      <td>13,11,4</td>\n",
       "      <td>1.0</td>\n",
       "      <td>3.0</td>\n",
       "    </tr>\n",
       "    <tr>\n",
       "      <th>2</th>\n",
       "      <td>3.0</td>\n",
       "      <td>21.0</td>\n",
       "      <td>0.0</td>\n",
       "      <td>12.0</td>\n",
       "      <td>18,2,7</td>\n",
       "      <td>0.0</td>\n",
       "      <td>3.0</td>\n",
       "    </tr>\n",
       "    <tr>\n",
       "      <th>3</th>\n",
       "      <td>2.0</td>\n",
       "      <td>14.0</td>\n",
       "      <td>0.0</td>\n",
       "      <td>11.0</td>\n",
       "      <td>14,10,5</td>\n",
       "      <td>0.0</td>\n",
       "      <td>3.0</td>\n",
       "    </tr>\n",
       "    <tr>\n",
       "      <th>4</th>\n",
       "      <td>3.0</td>\n",
       "      <td>20.0</td>\n",
       "      <td>0.0</td>\n",
       "      <td>12.0</td>\n",
       "      <td>12,3,2</td>\n",
       "      <td>1.0</td>\n",
       "      <td>3.0</td>\n",
       "    </tr>\n",
       "    <tr>\n",
       "      <th>...</th>\n",
       "      <td>...</td>\n",
       "      <td>...</td>\n",
       "      <td>...</td>\n",
       "      <td>...</td>\n",
       "      <td>...</td>\n",
       "      <td>...</td>\n",
       "      <td>...</td>\n",
       "    </tr>\n",
       "    <tr>\n",
       "      <th>995</th>\n",
       "      <td>3.0</td>\n",
       "      <td>18.0</td>\n",
       "      <td>0.0</td>\n",
       "      <td>7.0</td>\n",
       "      <td>14,10,6</td>\n",
       "      <td>0.0</td>\n",
       "      <td>3.0</td>\n",
       "    </tr>\n",
       "    <tr>\n",
       "      <th>996</th>\n",
       "      <td>1.0</td>\n",
       "      <td>7.0</td>\n",
       "      <td>0.0</td>\n",
       "      <td>12.0</td>\n",
       "      <td>12,0,8</td>\n",
       "      <td>0.0</td>\n",
       "      <td>2.0</td>\n",
       "    </tr>\n",
       "    <tr>\n",
       "      <th>997</th>\n",
       "      <td>2.0</td>\n",
       "      <td>16.0</td>\n",
       "      <td>0.0</td>\n",
       "      <td>10.0</td>\n",
       "      <td>18,14,16</td>\n",
       "      <td>0.0</td>\n",
       "      <td>3.0</td>\n",
       "    </tr>\n",
       "    <tr>\n",
       "      <th>998</th>\n",
       "      <td>2.0</td>\n",
       "      <td>16.0</td>\n",
       "      <td>0.0</td>\n",
       "      <td>11.0</td>\n",
       "      <td>15,13,14</td>\n",
       "      <td>0.0</td>\n",
       "      <td>3.0</td>\n",
       "    </tr>\n",
       "    <tr>\n",
       "      <th>999</th>\n",
       "      <td>3.0</td>\n",
       "      <td>19.0</td>\n",
       "      <td>0.0</td>\n",
       "      <td>14.0</td>\n",
       "      <td>14,3,1</td>\n",
       "      <td>1.0</td>\n",
       "      <td>3.0</td>\n",
       "    </tr>\n",
       "  </tbody>\n",
       "</table>\n",
       "<p>1000 rows × 7 columns</p>\n",
       "</div>"
      ],
      "text/plain": [
       "     atk_success  damage_output  enemies_alive  num_turns  party_hp  \\\n",
       "0            1.0            6.0            0.0       10.0   17,6,-3   \n",
       "1            3.0           17.0            0.0       13.0   13,11,4   \n",
       "2            3.0           21.0            0.0       12.0    18,2,7   \n",
       "3            2.0           14.0            0.0       11.0   14,10,5   \n",
       "4            3.0           20.0            0.0       12.0    12,3,2   \n",
       "..           ...            ...            ...        ...       ...   \n",
       "995          3.0           18.0            0.0        7.0   14,10,6   \n",
       "996          1.0            7.0            0.0       12.0    12,0,8   \n",
       "997          2.0           16.0            0.0       10.0  18,14,16   \n",
       "998          2.0           16.0            0.0       11.0  15,13,14   \n",
       "999          3.0           19.0            0.0       14.0    14,3,1   \n",
       "\n",
       "     pj_initiative  pjs_alive  \n",
       "0              0.0        2.0  \n",
       "1              1.0        3.0  \n",
       "2              0.0        3.0  \n",
       "3              0.0        3.0  \n",
       "4              1.0        3.0  \n",
       "..             ...        ...  \n",
       "995            0.0        3.0  \n",
       "996            0.0        2.0  \n",
       "997            0.0        3.0  \n",
       "998            0.0        3.0  \n",
       "999            1.0        3.0  \n",
       "\n",
       "[1000 rows x 7 columns]"
      ]
     },
     "execution_count": 884,
     "metadata": {},
     "output_type": "execute_result"
    }
   ],
   "source": [
    "df_sim"
   ]
  },
  {
   "cell_type": "code",
   "execution_count": null,
   "id": "derived-looking",
   "metadata": {},
   "outputs": [],
   "source": []
  },
  {
   "cell_type": "code",
   "execution_count": null,
   "id": "verified-prevention",
   "metadata": {},
   "outputs": [],
   "source": []
  }
 ],
 "metadata": {
  "kernelspec": {
   "display_name": "Python 3",
   "language": "python",
   "name": "python3"
  },
  "language_info": {
   "codemirror_mode": {
    "name": "ipython",
    "version": 3
   },
   "file_extension": ".py",
   "mimetype": "text/x-python",
   "name": "python",
   "nbconvert_exporter": "python",
   "pygments_lexer": "ipython3",
   "version": "3.9.1"
  }
 },
 "nbformat": 4,
 "nbformat_minor": 5
}
